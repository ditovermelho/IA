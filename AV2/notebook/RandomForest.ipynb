{
 "cells": [
  {
   "attachments": {},
   "cell_type": "markdown",
   "metadata": {},
   "source": [
    "# Random Forest na Prática (Scikit-learn / Python)\n",
    "\n",
    "bibliotecas usadas: https://scikit-learn.org/stable/modules/generated/sklearn.ensemble.RandomForestRegressor.html"
   ]
  },
  {
   "attachments": {},
   "cell_type": "markdown",
   "metadata": {},
   "source": [
    "### 1. Importes e dados"
   ]
  },
  {
   "cell_type": "code",
   "execution_count": 31,
   "metadata": {},
   "outputs": [
    {
     "data": {
      "text/html": [
       "<div>\n",
       "<style scoped>\n",
       "    .dataframe tbody tr th:only-of-type {\n",
       "        vertical-align: middle;\n",
       "    }\n",
       "\n",
       "    .dataframe tbody tr th {\n",
       "        vertical-align: top;\n",
       "    }\n",
       "\n",
       "    .dataframe thead th {\n",
       "        text-align: right;\n",
       "    }\n",
       "</style>\n",
       "<table border=\"1\" class=\"dataframe\">\n",
       "  <thead>\n",
       "    <tr style=\"text-align: right;\">\n",
       "      <th></th>\n",
       "      <th>text</th>\n",
       "      <th>spam</th>\n",
       "    </tr>\n",
       "  </thead>\n",
       "  <tbody>\n",
       "    <tr>\n",
       "      <th>0</th>\n",
       "      <td>Subject: naturally irresistible your corporate...</td>\n",
       "      <td>1</td>\n",
       "    </tr>\n",
       "    <tr>\n",
       "      <th>1</th>\n",
       "      <td>Subject: the stock trading gunslinger  fanny i...</td>\n",
       "      <td>1</td>\n",
       "    </tr>\n",
       "    <tr>\n",
       "      <th>2</th>\n",
       "      <td>Subject: unbelievable new homes made easy  im ...</td>\n",
       "      <td>1</td>\n",
       "    </tr>\n",
       "    <tr>\n",
       "      <th>3</th>\n",
       "      <td>Subject: 4 color printing special  request add...</td>\n",
       "      <td>1</td>\n",
       "    </tr>\n",
       "    <tr>\n",
       "      <th>4</th>\n",
       "      <td>Subject: do not have money , get software cds ...</td>\n",
       "      <td>1</td>\n",
       "    </tr>\n",
       "  </tbody>\n",
       "</table>\n",
       "</div>"
      ],
      "text/plain": [
       "                                                text  spam\n",
       "0  Subject: naturally irresistible your corporate...     1\n",
       "1  Subject: the stock trading gunslinger  fanny i...     1\n",
       "2  Subject: unbelievable new homes made easy  im ...     1\n",
       "3  Subject: 4 color printing special  request add...     1\n",
       "4  Subject: do not have money , get software cds ...     1"
      ]
     },
     "execution_count": 31,
     "metadata": {},
     "output_type": "execute_result"
    }
   ],
   "source": [
    "import pandas as pd\n",
    "import numpy as np\n",
    "import string\n",
    "from nltk.corpus import stopwords\n",
    "from sklearn.ensemble import RandomForestRegressor\n",
    "from sklearn.model_selection import train_test_split\n",
    "from sklearn.metrics import mean_squared_error\n",
    "from sklearn.datasets import make_classification\n",
    "from sklearn import metrics\n",
    "\n",
    "# Leitura de dados\n",
    "data1 = pd.read_csv('../dados/emails.csv') # DataFrame\n",
    "data1.head()"
   ]
  },
  {
   "attachments": {},
   "cell_type": "markdown",
   "metadata": {},
   "source": [
    "### 2. Leitura de dados e Testes"
   ]
  },
  {
   "attachments": {},
   "cell_type": "markdown",
   "metadata": {},
   "source": [
    "#### 2.1 Teste 1 - De acordo com Random Forest na Prática (Scikit-learn / Python)\n",
    "\n",
    "https://www.youtube.com/watch?v=RtA1rjhuavs"
   ]
  },
  {
   "cell_type": "code",
   "execution_count": 75,
   "metadata": {},
   "outputs": [],
   "source": [
    "def process_text(text):\n",
    "    # 1 remove punctuation\n",
    "    # 2 remove stopwords\n",
    "    # 3 return a list of clean text words\n",
    "    \n",
    "    # 1\n",
    "    nopunc = [char for char in text if char not in string.punctuation]\n",
    "    nopunc = ''.join(nopunc)\n",
    "    \n",
    "    # 2 \n",
    "    clear_words = [word for word in nopunc.split() if word.lower() not in stopwords.words('english')]\n",
    "    \n",
    "    # 3 \n",
    "    return clear_words"
   ]
  },
  {
   "cell_type": "code",
   "execution_count": 76,
   "metadata": {},
   "outputs": [],
   "source": [
    "from sklearn.feature_extraction.text import CountVectorizer\n",
    "messages_bow = CountVectorizer(analyzer=process_text).fit_transform(data1['text'])"
   ]
  },
  {
   "cell_type": "code",
   "execution_count": 77,
   "metadata": {},
   "outputs": [
    {
     "data": {
      "text/plain": [
       "0.899764513654166"
      ]
     },
     "execution_count": 77,
     "metadata": {},
     "output_type": "execute_result"
    }
   ],
   "source": [
    "X = messages_bow\n",
    "y = data1['spam']\n",
    "Xtr, Xval, ytr, yval = train_test_split(X, y, test_size=0.5, random_state=0)\n",
    "\n",
    "arveres = RandomForestRegressor(n_estimators=100, min_samples_leaf=1, random_state=0, n_jobs=-1).fit(Xtr, ytr)\n",
    "\n",
    "p = arveres.predict(Xval)\n",
    "\n",
    "np.sqrt(mean_squared_error(yval, p))\n",
    "arveres.score(X, y)"
   ]
  },
  {
   "attachments": {},
   "cell_type": "markdown",
   "metadata": {},
   "source": [
    "#### 2.2 Teste 2 -  De acordo com Spam-Email-Filter\n",
    "\n",
    "https://github.com/Paradiddle131/Spam-Email-Filter"
   ]
  },
  {
   "cell_type": "code",
   "execution_count": 12,
   "metadata": {},
   "outputs": [],
   "source": [
    "X, y = make_classification(n_samples=2736, n_features=2, n_informative=2, n_redundant=0, random_state=5)"
   ]
  },
  {
   "cell_type": "code",
   "execution_count": 16,
   "metadata": {},
   "outputs": [],
   "source": [
    "# Dividindo os dados em 70% para treino e 30% para test\n",
    "X_train, X_test, y_train, y_test = train_test_split(X, y, test_size=0.3)"
   ]
  },
  {
   "cell_type": "code",
   "execution_count": 43,
   "metadata": {},
   "outputs": [
    {
     "data": {
      "text/html": [
       "<style>#sk-container-id-9 {color: black;background-color: white;}#sk-container-id-9 pre{padding: 0;}#sk-container-id-9 div.sk-toggleable {background-color: white;}#sk-container-id-9 label.sk-toggleable__label {cursor: pointer;display: block;width: 100%;margin-bottom: 0;padding: 0.3em;box-sizing: border-box;text-align: center;}#sk-container-id-9 label.sk-toggleable__label-arrow:before {content: \"▸\";float: left;margin-right: 0.25em;color: #696969;}#sk-container-id-9 label.sk-toggleable__label-arrow:hover:before {color: black;}#sk-container-id-9 div.sk-estimator:hover label.sk-toggleable__label-arrow:before {color: black;}#sk-container-id-9 div.sk-toggleable__content {max-height: 0;max-width: 0;overflow: hidden;text-align: left;background-color: #f0f8ff;}#sk-container-id-9 div.sk-toggleable__content pre {margin: 0.2em;color: black;border-radius: 0.25em;background-color: #f0f8ff;}#sk-container-id-9 input.sk-toggleable__control:checked~div.sk-toggleable__content {max-height: 200px;max-width: 100%;overflow: auto;}#sk-container-id-9 input.sk-toggleable__control:checked~label.sk-toggleable__label-arrow:before {content: \"▾\";}#sk-container-id-9 div.sk-estimator input.sk-toggleable__control:checked~label.sk-toggleable__label {background-color: #d4ebff;}#sk-container-id-9 div.sk-label input.sk-toggleable__control:checked~label.sk-toggleable__label {background-color: #d4ebff;}#sk-container-id-9 input.sk-hidden--visually {border: 0;clip: rect(1px 1px 1px 1px);clip: rect(1px, 1px, 1px, 1px);height: 1px;margin: -1px;overflow: hidden;padding: 0;position: absolute;width: 1px;}#sk-container-id-9 div.sk-estimator {font-family: monospace;background-color: #f0f8ff;border: 1px dotted black;border-radius: 0.25em;box-sizing: border-box;margin-bottom: 0.5em;}#sk-container-id-9 div.sk-estimator:hover {background-color: #d4ebff;}#sk-container-id-9 div.sk-parallel-item::after {content: \"\";width: 100%;border-bottom: 1px solid gray;flex-grow: 1;}#sk-container-id-9 div.sk-label:hover label.sk-toggleable__label {background-color: #d4ebff;}#sk-container-id-9 div.sk-serial::before {content: \"\";position: absolute;border-left: 1px solid gray;box-sizing: border-box;top: 0;bottom: 0;left: 50%;z-index: 0;}#sk-container-id-9 div.sk-serial {display: flex;flex-direction: column;align-items: center;background-color: white;padding-right: 0.2em;padding-left: 0.2em;position: relative;}#sk-container-id-9 div.sk-item {position: relative;z-index: 1;}#sk-container-id-9 div.sk-parallel {display: flex;align-items: stretch;justify-content: center;background-color: white;position: relative;}#sk-container-id-9 div.sk-item::before, #sk-container-id-9 div.sk-parallel-item::before {content: \"\";position: absolute;border-left: 1px solid gray;box-sizing: border-box;top: 0;bottom: 0;left: 50%;z-index: -1;}#sk-container-id-9 div.sk-parallel-item {display: flex;flex-direction: column;z-index: 1;position: relative;background-color: white;}#sk-container-id-9 div.sk-parallel-item:first-child::after {align-self: flex-end;width: 50%;}#sk-container-id-9 div.sk-parallel-item:last-child::after {align-self: flex-start;width: 50%;}#sk-container-id-9 div.sk-parallel-item:only-child::after {width: 0;}#sk-container-id-9 div.sk-dashed-wrapped {border: 1px dashed gray;margin: 0 0.4em 0.5em 0.4em;box-sizing: border-box;padding-bottom: 0.4em;background-color: white;}#sk-container-id-9 div.sk-label label {font-family: monospace;font-weight: bold;display: inline-block;line-height: 1.2em;}#sk-container-id-9 div.sk-label-container {text-align: center;}#sk-container-id-9 div.sk-container {/* jupyter's `normalize.less` sets `[hidden] { display: none; }` but bootstrap.min.css set `[hidden] { display: none !important; }` so we also need the `!important` here to be able to override the default hidden behavior on the sphinx rendered scikit-learn.org. See: https://github.com/scikit-learn/scikit-learn/issues/21755 */display: inline-block !important;position: relative;}#sk-container-id-9 div.sk-text-repr-fallback {display: none;}</style><div id=\"sk-container-id-9\" class=\"sk-top-container\"><div class=\"sk-text-repr-fallback\"><pre>RandomForestRegressor(n_estimators=200, random_state=5)</pre><b>In a Jupyter environment, please rerun this cell to show the HTML representation or trust the notebook. <br />On GitHub, the HTML representation is unable to render, please try loading this page with nbviewer.org.</b></div><div class=\"sk-container\" hidden><div class=\"sk-item\"><div class=\"sk-estimator sk-toggleable\"><input class=\"sk-toggleable__control sk-hidden--visually\" id=\"sk-estimator-id-9\" type=\"checkbox\" checked><label for=\"sk-estimator-id-9\" class=\"sk-toggleable__label sk-toggleable__label-arrow\">RandomForestRegressor</label><div class=\"sk-toggleable__content\"><pre>RandomForestRegressor(n_estimators=200, random_state=5)</pre></div></div></div></div></div>"
      ],
      "text/plain": [
       "RandomForestRegressor(n_estimators=200, random_state=5)"
      ]
     },
     "execution_count": 43,
     "metadata": {},
     "output_type": "execute_result"
    }
   ],
   "source": [
    "classifier = RandomForestRegressor(n_estimators=200, random_state=5)\n",
    "classifier"
   ]
  },
  {
   "cell_type": "code",
   "execution_count": 44,
   "metadata": {},
   "outputs": [
    {
     "data": {
      "text/html": [
       "<style>#sk-container-id-10 {color: black;background-color: white;}#sk-container-id-10 pre{padding: 0;}#sk-container-id-10 div.sk-toggleable {background-color: white;}#sk-container-id-10 label.sk-toggleable__label {cursor: pointer;display: block;width: 100%;margin-bottom: 0;padding: 0.3em;box-sizing: border-box;text-align: center;}#sk-container-id-10 label.sk-toggleable__label-arrow:before {content: \"▸\";float: left;margin-right: 0.25em;color: #696969;}#sk-container-id-10 label.sk-toggleable__label-arrow:hover:before {color: black;}#sk-container-id-10 div.sk-estimator:hover label.sk-toggleable__label-arrow:before {color: black;}#sk-container-id-10 div.sk-toggleable__content {max-height: 0;max-width: 0;overflow: hidden;text-align: left;background-color: #f0f8ff;}#sk-container-id-10 div.sk-toggleable__content pre {margin: 0.2em;color: black;border-radius: 0.25em;background-color: #f0f8ff;}#sk-container-id-10 input.sk-toggleable__control:checked~div.sk-toggleable__content {max-height: 200px;max-width: 100%;overflow: auto;}#sk-container-id-10 input.sk-toggleable__control:checked~label.sk-toggleable__label-arrow:before {content: \"▾\";}#sk-container-id-10 div.sk-estimator input.sk-toggleable__control:checked~label.sk-toggleable__label {background-color: #d4ebff;}#sk-container-id-10 div.sk-label input.sk-toggleable__control:checked~label.sk-toggleable__label {background-color: #d4ebff;}#sk-container-id-10 input.sk-hidden--visually {border: 0;clip: rect(1px 1px 1px 1px);clip: rect(1px, 1px, 1px, 1px);height: 1px;margin: -1px;overflow: hidden;padding: 0;position: absolute;width: 1px;}#sk-container-id-10 div.sk-estimator {font-family: monospace;background-color: #f0f8ff;border: 1px dotted black;border-radius: 0.25em;box-sizing: border-box;margin-bottom: 0.5em;}#sk-container-id-10 div.sk-estimator:hover {background-color: #d4ebff;}#sk-container-id-10 div.sk-parallel-item::after {content: \"\";width: 100%;border-bottom: 1px solid gray;flex-grow: 1;}#sk-container-id-10 div.sk-label:hover label.sk-toggleable__label {background-color: #d4ebff;}#sk-container-id-10 div.sk-serial::before {content: \"\";position: absolute;border-left: 1px solid gray;box-sizing: border-box;top: 0;bottom: 0;left: 50%;z-index: 0;}#sk-container-id-10 div.sk-serial {display: flex;flex-direction: column;align-items: center;background-color: white;padding-right: 0.2em;padding-left: 0.2em;position: relative;}#sk-container-id-10 div.sk-item {position: relative;z-index: 1;}#sk-container-id-10 div.sk-parallel {display: flex;align-items: stretch;justify-content: center;background-color: white;position: relative;}#sk-container-id-10 div.sk-item::before, #sk-container-id-10 div.sk-parallel-item::before {content: \"\";position: absolute;border-left: 1px solid gray;box-sizing: border-box;top: 0;bottom: 0;left: 50%;z-index: -1;}#sk-container-id-10 div.sk-parallel-item {display: flex;flex-direction: column;z-index: 1;position: relative;background-color: white;}#sk-container-id-10 div.sk-parallel-item:first-child::after {align-self: flex-end;width: 50%;}#sk-container-id-10 div.sk-parallel-item:last-child::after {align-self: flex-start;width: 50%;}#sk-container-id-10 div.sk-parallel-item:only-child::after {width: 0;}#sk-container-id-10 div.sk-dashed-wrapped {border: 1px dashed gray;margin: 0 0.4em 0.5em 0.4em;box-sizing: border-box;padding-bottom: 0.4em;background-color: white;}#sk-container-id-10 div.sk-label label {font-family: monospace;font-weight: bold;display: inline-block;line-height: 1.2em;}#sk-container-id-10 div.sk-label-container {text-align: center;}#sk-container-id-10 div.sk-container {/* jupyter's `normalize.less` sets `[hidden] { display: none; }` but bootstrap.min.css set `[hidden] { display: none !important; }` so we also need the `!important` here to be able to override the default hidden behavior on the sphinx rendered scikit-learn.org. See: https://github.com/scikit-learn/scikit-learn/issues/21755 */display: inline-block !important;position: relative;}#sk-container-id-10 div.sk-text-repr-fallback {display: none;}</style><div id=\"sk-container-id-10\" class=\"sk-top-container\"><div class=\"sk-text-repr-fallback\"><pre>RandomForestRegressor(n_estimators=200, random_state=5)</pre><b>In a Jupyter environment, please rerun this cell to show the HTML representation or trust the notebook. <br />On GitHub, the HTML representation is unable to render, please try loading this page with nbviewer.org.</b></div><div class=\"sk-container\" hidden><div class=\"sk-item\"><div class=\"sk-estimator sk-toggleable\"><input class=\"sk-toggleable__control sk-hidden--visually\" id=\"sk-estimator-id-10\" type=\"checkbox\" checked><label for=\"sk-estimator-id-10\" class=\"sk-toggleable__label sk-toggleable__label-arrow\">RandomForestRegressor</label><div class=\"sk-toggleable__content\"><pre>RandomForestRegressor(n_estimators=200, random_state=5)</pre></div></div></div></div></div>"
      ],
      "text/plain": [
       "RandomForestRegressor(n_estimators=200, random_state=5)"
      ]
     },
     "execution_count": 44,
     "metadata": {},
     "output_type": "execute_result"
    }
   ],
   "source": [
    "classifier.fit(X, y)"
   ]
  },
  {
   "cell_type": "code",
   "execution_count": 45,
   "metadata": {},
   "outputs": [
    {
     "name": "stdout",
     "output_type": "stream",
     "text": [
      "[0.85558847 0.14441153]\n"
     ]
    }
   ],
   "source": [
    "print(classifier.feature_importances_)"
   ]
  },
  {
   "cell_type": "code",
   "execution_count": 47,
   "metadata": {},
   "outputs": [
    {
     "data": {
      "text/plain": [
       "array([0.99 , 0.   , 0.   , 1.   , 0.97 , 0.   , 0.99 , 1.   , 0.   ,\n",
       "       0.1  , 1.   , 1.   , 0.   , 1.   , 0.02 , 0.995, 0.105, 0.   ,\n",
       "       1.   , 1.   , 1.   , 0.   , 0.   , 1.   , 0.395, 1.   , 0.   ,\n",
       "       0.   , 0.01 , 0.985, 0.89 , 0.   , 1.   , 0.22 , 1.   , 1.   ,\n",
       "       1.   , 1.   , 0.   , 0.   , 0.   , 0.   , 0.   , 0.   , 0.005,\n",
       "       0.   , 0.99 , 0.955, 0.   , 0.   , 1.   , 0.   , 0.   , 0.   ,\n",
       "       0.   , 1.   , 0.87 , 1.   , 0.985, 0.99 , 0.335, 1.   , 1.   ,\n",
       "       0.   , 0.   , 1.   , 0.   , 0.965, 0.955, 0.925, 0.   , 0.685,\n",
       "       1.   , 1.   , 1.   , 1.   , 0.   , 0.   , 0.72 , 1.   , 0.   ,\n",
       "       1.   , 1.   , 0.   , 0.935, 0.985, 0.99 , 0.   , 0.   , 0.37 ,\n",
       "       0.685, 1.   , 0.   , 1.   , 1.   , 0.075, 0.06 , 0.155, 1.   ,\n",
       "       0.96 , 0.   , 0.   , 1.   , 0.   , 1.   , 0.   , 0.97 , 1.   ,\n",
       "       1.   , 0.645, 0.   , 1.   , 1.   , 1.   , 0.   , 1.   , 0.995,\n",
       "       1.   , 1.   , 0.205, 0.985, 0.   , 1.   , 0.   , 1.   , 0.   ,\n",
       "       0.005, 0.   , 0.   , 1.   , 0.99 , 0.005, 0.   , 0.   , 1.   ,\n",
       "       0.   , 0.115, 1.   , 0.   , 0.09 , 1.   , 0.   , 0.   , 0.775,\n",
       "       0.005, 0.99 , 1.   , 0.   , 1.   , 0.815, 1.   , 0.93 , 0.03 ,\n",
       "       0.   , 1.   , 0.945, 0.1  , 1.   , 0.   , 0.   , 0.995, 0.65 ,\n",
       "       1.   , 0.   , 0.   , 1.   , 0.86 , 1.   , 1.   , 1.   , 0.965,\n",
       "       0.925, 0.   , 0.925, 0.   , 1.   , 0.155, 1.   , 0.855, 1.   ,\n",
       "       1.   , 0.   , 1.   , 0.   , 0.345, 0.   , 1.   , 1.   , 1.   ,\n",
       "       0.   , 0.84 , 0.   , 0.98 , 0.985, 0.285, 0.   , 1.   , 0.   ,\n",
       "       0.94 , 0.   , 0.   , 0.995, 1.   , 0.   , 0.01 , 1.   , 1.   ,\n",
       "       1.   , 0.69 , 1.   , 0.   , 0.   , 0.01 , 0.01 , 1.   , 0.965,\n",
       "       1.   , 1.   , 0.   , 1.   , 0.   , 0.   , 1.   , 1.   , 0.   ,\n",
       "       0.   , 1.   , 0.08 , 0.   , 1.   , 0.02 , 0.985, 1.   , 0.03 ,\n",
       "       0.695, 0.   , 1.   , 0.   , 0.   , 0.   , 0.   , 0.   , 0.91 ,\n",
       "       1.   , 0.97 , 0.   , 0.   , 0.97 , 0.   , 0.   , 1.   , 1.   ,\n",
       "       0.   , 0.915, 0.99 , 0.   , 1.   , 0.985, 0.99 , 0.97 , 0.04 ,\n",
       "       0.945, 1.   , 0.   , 1.   , 0.015, 0.935, 1.   , 0.995, 1.   ,\n",
       "       0.06 , 1.   , 0.335, 0.865, 0.98 , 0.   , 0.995, 1.   , 0.   ,\n",
       "       0.   , 1.   , 0.995, 0.   , 1.   , 1.   , 0.98 , 0.   , 1.   ,\n",
       "       0.   , 0.   , 0.   , 0.   , 1.   , 0.   , 1.   , 0.965, 0.895,\n",
       "       0.   , 0.   , 0.015, 1.   , 1.   , 0.   , 0.99 , 0.845, 0.   ,\n",
       "       1.   , 0.985, 0.   , 1.   , 1.   , 0.065, 0.985, 0.   , 0.985,\n",
       "       0.   , 1.   , 1.   , 0.   , 0.   , 0.03 , 0.   , 0.97 , 0.99 ,\n",
       "       0.   , 0.88 , 1.   , 1.   , 1.   , 0.   , 1.   , 0.01 , 0.995,\n",
       "       0.   , 0.   , 0.01 , 0.995, 0.995, 0.   , 0.   , 0.975, 1.   ,\n",
       "       0.92 , 0.95 , 1.   , 0.   , 0.   , 0.98 , 0.   , 1.   , 0.9  ,\n",
       "       0.   , 1.   , 0.   , 0.   , 0.97 , 0.9  , 0.   , 0.3  , 0.   ,\n",
       "       1.   , 0.   , 0.   , 1.   , 1.   , 0.005, 0.   , 1.   , 0.295,\n",
       "       0.   , 0.   , 0.   , 1.   , 0.93 , 1.   , 1.   , 0.   , 0.985,\n",
       "       0.265, 0.97 , 0.04 , 0.99 , 0.   , 0.   , 0.02 , 0.065, 1.   ,\n",
       "       0.975, 0.985, 1.   , 0.995, 1.   , 0.98 , 0.   , 1.   , 0.   ,\n",
       "       1.   , 0.94 , 1.   , 0.   , 0.96 , 0.   , 0.   , 0.045, 1.   ,\n",
       "       0.   , 0.   , 1.   , 0.   , 0.   , 0.   , 1.   , 0.995, 0.   ,\n",
       "       0.   , 0.   , 1.   , 0.945, 1.   , 1.   , 0.   , 0.96 , 0.   ,\n",
       "       0.98 , 0.005, 0.   , 0.   , 0.205, 0.   , 1.   , 0.   , 0.   ,\n",
       "       0.05 , 0.   , 0.   , 1.   , 0.   , 0.   , 0.   , 0.   , 1.   ,\n",
       "       1.   , 1.   , 0.99 , 1.   , 0.   , 0.965, 0.   , 0.135, 0.   ,\n",
       "       0.315, 0.035, 0.92 , 0.   , 0.03 , 1.   , 0.   , 1.   , 1.   ,\n",
       "       1.   , 1.   , 0.995, 1.   , 1.   , 0.   , 0.   , 0.   , 0.   ,\n",
       "       0.   , 1.   , 0.   , 0.   , 1.   , 0.   , 0.995, 0.05 , 0.99 ,\n",
       "       0.   , 1.   , 1.   , 0.01 , 1.   , 1.   , 1.   , 1.   , 0.005,\n",
       "       0.   , 0.   , 0.005, 1.   , 1.   , 0.345, 1.   , 0.   , 1.   ,\n",
       "       0.   , 1.   , 0.28 , 1.   , 0.   , 1.   , 0.015, 0.   , 0.985,\n",
       "       1.   , 0.275, 1.   , 1.   , 0.   , 0.   , 1.   , 0.   , 0.975,\n",
       "       1.   , 0.   , 0.   , 1.   , 0.   , 1.   , 0.995, 1.   , 1.   ,\n",
       "       1.   , 0.   , 0.   , 1.   , 0.335, 1.   , 1.   , 0.   , 0.   ,\n",
       "       1.   , 1.   , 1.   , 0.99 , 1.   , 0.96 , 0.   , 1.   , 0.6  ,\n",
       "       1.   , 1.   , 0.   , 0.   , 1.   , 1.   , 0.   , 1.   , 0.   ,\n",
       "       1.   , 1.   , 1.   , 0.   , 0.   , 0.025, 0.985, 0.99 , 0.   ,\n",
       "       0.   , 0.32 , 0.   , 1.   , 1.   , 0.   , 1.   , 1.   , 0.   ,\n",
       "       0.   , 0.   , 0.   , 0.   , 1.   , 1.   , 0.12 , 0.82 , 0.005,\n",
       "       0.005, 1.   , 0.945, 0.   , 0.8  , 1.   , 0.   , 0.99 , 1.   ,\n",
       "       0.   , 1.   , 0.   , 0.975, 0.   , 0.   , 0.   , 0.   , 1.   ,\n",
       "       0.99 , 0.985, 0.   , 0.   , 0.   , 0.005, 1.   , 1.   , 0.93 ,\n",
       "       0.   , 0.98 , 0.   , 0.095, 0.97 , 0.   , 0.025, 0.   , 0.005,\n",
       "       1.   , 0.   , 1.   , 1.   , 0.03 , 1.   , 0.   , 0.925, 1.   ,\n",
       "       0.   , 0.   , 0.865, 0.975, 1.   , 0.005, 1.   , 0.   , 1.   ,\n",
       "       0.   , 1.   , 1.   , 1.   , 0.885, 0.   , 1.   , 0.945, 0.005,\n",
       "       0.   , 1.   , 0.   , 0.   , 1.   , 0.025, 0.99 , 0.06 , 0.92 ,\n",
       "       0.92 , 0.86 , 0.   , 0.   , 1.   , 0.71 , 0.735, 0.835, 0.915,\n",
       "       0.99 , 0.   , 0.   , 1.   , 0.   , 1.   , 0.   , 1.   , 1.   ,\n",
       "       0.   , 1.   , 0.   , 0.   , 1.   , 0.045, 1.   , 0.02 , 0.01 ,\n",
       "       0.   , 0.985, 1.   , 0.   , 0.   , 1.   , 0.98 , 0.29 , 0.   ,\n",
       "       0.035, 0.   , 0.   , 1.   , 0.985, 0.   , 1.   , 0.   , 0.   ,\n",
       "       1.   , 0.   , 0.37 , 1.   , 0.985, 0.   , 0.   , 0.   , 0.825,\n",
       "       1.   , 1.   , 0.   , 1.   , 0.   , 0.   , 0.   , 0.99 , 0.06 ,\n",
       "       0.62 , 1.   , 1.   , 0.   , 0.   , 0.   , 0.93 , 1.   , 0.   ,\n",
       "       0.   , 1.   , 1.   , 0.   , 0.21 , 1.   , 0.   , 0.065, 0.   ,\n",
       "       1.   , 0.   , 1.   , 0.755, 0.14 , 0.   , 0.   , 1.   , 0.96 ,\n",
       "       0.   , 1.   , 1.   , 0.285, 1.   , 1.   , 0.   , 0.   , 0.   ,\n",
       "       0.   , 1.   , 0.   , 0.   , 0.945, 0.   , 0.005, 0.   , 0.035,\n",
       "       0.99 , 0.985, 1.   , 1.   , 0.97 , 1.   , 1.   , 1.   , 0.335,\n",
       "       0.   , 1.   , 0.   , 1.   , 1.   , 0.   , 0.005, 0.925, 0.99 ,\n",
       "       0.   , 0.955, 1.   , 0.   , 1.   , 1.   , 0.   , 1.   , 0.   ,\n",
       "       0.   , 1.   , 0.   , 0.96 , 0.   , 0.975, 0.   , 0.   , 1.   ,\n",
       "       0.325, 0.   , 1.   , 0.02 , 0.985, 0.   , 1.   , 0.   , 0.   ,\n",
       "       1.   , 0.   , 0.995, 0.   , 0.975, 0.935, 0.   , 0.93 , 0.   ,\n",
       "       0.   , 1.   , 0.   , 1.   , 0.   , 0.595, 0.   , 1.   , 1.   ,\n",
       "       0.745, 0.655])"
      ]
     },
     "execution_count": 47,
     "metadata": {},
     "output_type": "execute_result"
    }
   ],
   "source": [
    "y_prediction = classifier.predict(X_test)\n",
    "y_prediction"
   ]
  },
  {
   "cell_type": "code",
   "execution_count": 70,
   "metadata": {},
   "outputs": [
    {
     "data": {
      "text/plain": [
       "0.900912446349053"
      ]
     },
     "execution_count": 70,
     "metadata": {},
     "output_type": "execute_result"
    }
   ],
   "source": [
    "classifier.score(X, y)"
   ]
  }
 ],
 "metadata": {
  "kernelspec": {
   "display_name": "venv",
   "language": "python",
   "name": "python3"
  },
  "language_info": {
   "codemirror_mode": {
    "name": "ipython",
    "version": 3
   },
   "file_extension": ".py",
   "mimetype": "text/x-python",
   "name": "python",
   "nbconvert_exporter": "python",
   "pygments_lexer": "ipython3",
   "version": "3.11.2 (tags/v3.11.2:878ead1, Feb  7 2023, 16:38:35) [MSC v.1934 64 bit (AMD64)]"
  },
  "orig_nbformat": 4,
  "vscode": {
   "interpreter": {
    "hash": "46d99924f7b4fb36e78178705a228e899f757d83925b971fb065bf0ad6a31f68"
   }
  }
 },
 "nbformat": 4,
 "nbformat_minor": 2
}
